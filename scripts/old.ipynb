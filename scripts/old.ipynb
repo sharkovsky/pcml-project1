{
 "cells": [
  {
   "cell_type": "code",
   "execution_count": 39,
   "metadata": {
    "collapsed": false
   },
   "outputs": [
    {
     "name": "stdout",
     "output_type": "stream",
     "text": [
      "The autoreload extension is already loaded. To reload it, use:\n",
      "  %reload_ext autoreload\n"
     ]
    }
   ],
   "source": [
    "# Useful starting lines\n",
    "%matplotlib inline\n",
    "import numpy as np\n",
    "import matplotlib.pyplot as plt\n",
    "%load_ext autoreload\n",
    "%autoreload 2"
   ]
  },
  {
   "cell_type": "code",
   "execution_count": 40,
   "metadata": {
    "collapsed": true
   },
   "outputs": [],
   "source": [
    "import os\n",
    "import scipy.sparse"
   ]
  },
  {
   "cell_type": "code",
   "execution_count": 41,
   "metadata": {
    "collapsed": false
   },
   "outputs": [
    {
     "name": "stdout",
     "output_type": "stream",
     "text": [
      "loaded training data: 250000 samples and 30 features\n",
      "\n"
     ]
    }
   ],
   "source": [
    "from proj1_helpers import *\n",
    "DATA_TRAIN_PATH = os.path.join( os.getcwd(), \"..\", \"data\", \"train.csv\")\n",
    "\n",
    "y, tX, ids = load_csv_data(DATA_TRAIN_PATH, sub_sample=False)\n",
    "N_FEATURES=tX.shape[1]\n",
    "N_SAMPLES=tX.shape[0]\n",
    "print( \"loaded training data: %d samples and %d features\\n\"%(N_SAMPLES, N_FEATURES) )"
   ]
  },
  {
   "cell_type": "code",
   "execution_count": 42,
   "metadata": {
    "collapsed": false
   },
   "outputs": [
    {
     "name": "stdout",
     "output_type": "stream",
     "text": [
      "[ 0.  1.]\n"
     ]
    }
   ],
   "source": [
    "y_colors = np.array(['b']*N_SAMPLES)\n",
    "y_colors[y==-1] = 'r'\n",
    "y += 1.\n",
    "y *= 0.5\n",
    "y_vals = np.unique(y)\n",
    "print(y_vals)\n",
    "# If I understood correctly, 1 are bosons, i.e. boson events will be colored in blue"
   ]
  },
  {
   "cell_type": "code",
   "execution_count": 43,
   "metadata": {
    "collapsed": true
   },
   "outputs": [],
   "source": [
    "feature_names=('DER_mass_MMC' , 'DER_mass_transverse_met_lep' , 'DER_mass_vis' , 'DER_pt_h' , 'DER_deltaeta_jet_jet' , 'DER_mass_jet_jet' , 'DER_prodeta_jet_jet' , 'DER_deltar_tau_lep' , 'DER_pt_tot' , 'DER_sum_pt' , 'DER_pt_ratio_lep_tau' , 'DER_met_phi_centrality' , 'DER_lep_eta_centrality' , 'PRI_tau_pt' , 'PRI_tau_eta' , 'PRI_tau_phi' , 'PRI_lep_pt' , 'PRI_lep_eta' , 'PRI_lep_phi' , 'PRI_met' , 'PRI_met_phi' , 'PRI_met_sumet' , 'PRI_jet_num' , 'PRI_jet_leading_pt' , 'PRI_jet_leading_eta' , 'PRI_jet_leading_phi' , 'PRI_jet_subleading_pt' , 'PRI_jet_subleading_eta' , 'PRI_jet_subleading_phi' , 'PRI_jet_all_pt')"
   ]
  },
  {
   "cell_type": "markdown",
   "metadata": {},
   "source": [
    "## Plot once"
   ]
  },
  {
   "cell_type": "code",
   "execution_count": null,
   "metadata": {
    "collapsed": false
   },
   "outputs": [],
   "source": [
    "n_cols_plots=5\n",
    "n_rows_plots=int(N_FEATURES/n_cols_plots)+1\n",
    "print ( \"plotting a %d x %d matrix\" % (n_cols_plots, n_rows_plots))\n",
    "#n_rows_plots=1\n",
    "#f, ax_array = plt.subplots(n_rows_plots, n_cols_plots, sharex='col', sharey='row')\n",
    "f, ax_array = plt.subplots(n_rows_plots, n_cols_plots, figsize=(16, 16 ))\n",
    "\n",
    "for row in range(n_rows_plots):\n",
    "    axes = ax_array[row]\n",
    "    for col in range(n_cols_plots):\n",
    "        #ax = ax_array[row*n_cols_plots + col]\n",
    "        if row*n_cols_plots + col < tX.shape[1]:\n",
    "            ax = axes[col]\n",
    "            data_to_plot=tX[:,row*n_cols_plots + col]\n",
    "            ax.scatter(range(N_SAMPLES), data_to_plot, c=y_colors,alpha=0.2)\n",
    "        \n",
    "        \n",
    "#figpath=os.path.join( os.getcwd(), \"..\", \"figures\", \"scatterplots.pdf\")\n",
    "#plt.savefig(figpath)\n",
    "#plt.show()"
   ]
  },
  {
   "cell_type": "markdown",
   "metadata": {},
   "source": [
    "#### Plot a given feature for detailed inspection "
   ]
  },
  {
   "cell_type": "code",
   "execution_count": null,
   "metadata": {
    "collapsed": false
   },
   "outputs": [],
   "source": [
    "feat_index_to_plot=4\n",
    "f, axes = plt.subplots(1,1)\n",
    "axes.scatter(range(N_SAMPLES), tX[:,feat_index_to_plot], c=y_colors, alpha=0.2)"
   ]
  },
  {
   "cell_type": "markdown",
   "metadata": {},
   "source": [
    "## Remove NaNs"
   ]
  },
  {
   "cell_type": "code",
   "execution_count": 6,
   "metadata": {
    "collapsed": false
   },
   "outputs": [
    {
     "name": "stdout",
     "output_type": "stream",
     "text": [
      "181886\n"
     ]
    }
   ],
   "source": [
    "NaN_indices =  np.where( tX < -900.0 )[0] \n",
    "NaN_indices = np.unique(NaN_indices)\n",
    "print(len(NaN_indices))"
   ]
  },
  {
   "cell_type": "code",
   "execution_count": 7,
   "metadata": {
    "collapsed": false
   },
   "outputs": [
    {
     "name": "stdout",
     "output_type": "stream",
     "text": [
      "(250000, 30)\n",
      "(68114, 30)\n"
     ]
    }
   ],
   "source": [
    "print(tX.shape)\n",
    "tX = np.delete(tX, NaN_indices, axis=0)\n",
    "y = np.delete(y, NaN_indices, axis=0)\n",
    "print(tX.shape)"
   ]
  },
  {
   "cell_type": "code",
   "execution_count": 8,
   "metadata": {
    "collapsed": true
   },
   "outputs": [],
   "source": [
    "y_colors = np.delete(y_colors, NaN_indices, axis=0)\n",
    "N_SAMPLES=tX.shape[0]"
   ]
  },
  {
   "cell_type": "markdown",
   "metadata": {},
   "source": [
    "## Replot all features"
   ]
  },
  {
   "cell_type": "code",
   "execution_count": null,
   "metadata": {
    "collapsed": false
   },
   "outputs": [],
   "source": [
    "n_cols_plots=5\n",
    "n_rows_plots=int(N_FEATURES/n_cols_plots)+1\n",
    "print ( \"plotting a %d x %d matrix\" % (n_cols_plots, n_rows_plots))\n",
    "#n_rows_plots=1\n",
    "#f, ax_array = plt.subplots(n_rows_plots, n_cols_plots, sharex='col', sharey='row')\n",
    "f, ax_array = plt.subplots(n_rows_plots, n_cols_plots, figsize=(16, 16 ))\n",
    "\n",
    "for row in range(n_rows_plots):\n",
    "    axes = ax_array[row]\n",
    "    for col in range(n_cols_plots):\n",
    "        #ax = ax_array[row*n_cols_plots + col]\n",
    "        if row*n_cols_plots + col < tX.shape[1]:\n",
    "            ax = axes[col]\n",
    "            data_to_plot=tX[:,row*n_cols_plots + col]\n",
    "            ax.scatter(range(N_SAMPLES), data_to_plot, c=y_colors,alpha=0.2)\n",
    "        \n",
    "        \n",
    "#figpath=os.path.join( os.getcwd(), \"..\", \"figures\", \"scatterplots.pdf\")\n",
    "#plt.savefig(figpath)\n",
    "#plt.show()"
   ]
  },
  {
   "cell_type": "markdown",
   "metadata": {},
   "source": [
    "## Treat categorical feature"
   ]
  },
  {
   "cell_type": "code",
   "execution_count": 44,
   "metadata": {
    "collapsed": false
   },
   "outputs": [
    {
     "name": "stdout",
     "output_type": "stream",
     "text": [
      "[ 0.  1.  2.  3.]\n"
     ]
    }
   ],
   "source": [
    "candidate_categorical_features = [22]\n",
    "# make sure it is categorical\n",
    "for candidate in candidate_categorical_features:\n",
    "    print(np.unique(tX[:,candidate]))\n",
    "    \n",
    "# only select the features that are really categorical\n",
    "categorical_features = candidate_categorical_features"
   ]
  },
  {
   "cell_type": "code",
   "execution_count": 45,
   "metadata": {
    "collapsed": false
   },
   "outputs": [
    {
     "name": "stdout",
     "output_type": "stream",
     "text": [
      "(250000, 1)\n"
     ]
    }
   ],
   "source": [
    "# make a copy\n",
    "categorical_feature_data = np.array([]).reshape((N_SAMPLES,0))\n",
    "for cat_feat in categorical_features:\n",
    "    categorical_feature_data = np.c_[categorical_feature_data, tX[:,cat_feat]]\n",
    "print(categorical_feature_data.shape)"
   ]
  },
  {
   "cell_type": "code",
   "execution_count": 46,
   "metadata": {
    "collapsed": false
   },
   "outputs": [
    {
     "name": "stdout",
     "output_type": "stream",
     "text": [
      "(250000, 29)\n"
     ]
    }
   ],
   "source": [
    "# Remove it from the list of features (temporarily)\n",
    "for cat_feat in categorical_features:\n",
    "    tX = np.delete(tX, cat_feat, axis=1)\n",
    "print(tX.shape)"
   ]
  },
  {
   "cell_type": "code",
   "execution_count": 47,
   "metadata": {
    "collapsed": true
   },
   "outputs": [],
   "source": [
    "def create_dummy_variables(categorical_dataset):\n",
    "    \"\"\"takes a single categorical feature and returns the corresponding matrix of dummy variables (of size n_levels - 1)\"\"\"\n",
    "    levels = np.unique(categorical_dataset)\n",
    "    num_levels = levels.shape[0]\n",
    "    levels = np.delete(levels, -1, axis=0)\n",
    "    num_samples = categorical_dataset.shape[0]\n",
    "    dummy_features = np.array([]).reshape(num_samples,0)\n",
    "    for level in levels:\n",
    "        dummy_tmp = (categorical_dataset == level)\n",
    "        dummy_tmp = np.array( [int(x) for x in dummy_tmp] )\n",
    "        dummy_features = np.c_[dummy_features, dummy_tmp ]\n",
    "    return dummy_features"
   ]
  },
  {
   "cell_type": "code",
   "execution_count": 13,
   "metadata": {
    "collapsed": false
   },
   "outputs": [
    {
     "name": "stdout",
     "output_type": "stream",
     "text": [
      "[[ 1.]\n",
      " [ 0.]\n",
      " [ 1.]\n",
      " ..., \n",
      " [ 1.]\n",
      " [ 0.]\n",
      " [ 1.]]\n"
     ]
    }
   ],
   "source": [
    "# Test this out\n",
    "dummy = create_dummy_variables(categorical_feature_data[:,0])\n",
    "print(dummy)"
   ]
  },
  {
   "cell_type": "markdown",
   "metadata": {},
   "source": [
    "## Add categorical data to dataset"
   ]
  },
  {
   "cell_type": "code",
   "execution_count": 50,
   "metadata": {
    "collapsed": false
   },
   "outputs": [
    {
     "name": "stdout",
     "output_type": "stream",
     "text": [
      "creating dummy data for 1 categorical variables\n",
      "(250000, 29)\n"
     ]
    }
   ],
   "source": [
    "train_tX = tX\n",
    "print(\"creating dummy data for {d} categorical variables\".format(d=categorical_feature_data.shape[1]))\n",
    "print(train_tX.shape)"
   ]
  },
  {
   "cell_type": "code",
   "execution_count": 51,
   "metadata": {
    "collapsed": false
   },
   "outputs": [
    {
     "name": "stdout",
     "output_type": "stream",
     "text": [
      "(250000, 32)\n"
     ]
    }
   ],
   "source": [
    "for index in range(categorical_feature_data.shape[1]):\n",
    "    train_tX = np.c_[train_tX, create_dummy_variables(categorical_feature_data[:,index])]\n",
    "print(train_tX.shape)"
   ]
  },
  {
   "cell_type": "markdown",
   "metadata": {},
   "source": [
    "\n",
    "## Primitive Features"
   ]
  },
  {
   "cell_type": "code",
   "execution_count": null,
   "metadata": {
    "collapsed": false
   },
   "outputs": [],
   "source": [
    "primitive_features_indices=[index for index,name in enumerate(feature_names) if name[0:3]=='PRI']\n",
    "N_PRI_FEAT=len(primitive_features_indices)\n",
    "print(\"detected %d primitive features\"%(N_PRI_FEAT))\n",
    "#print(primitive_features_indices)\n",
    "#for index in primitive_features_indices:\n",
    "#    print(feature_names[index])"
   ]
  },
  {
   "cell_type": "code",
   "execution_count": null,
   "metadata": {
    "collapsed": true
   },
   "outputs": [],
   "source": [
    "PRI_tX = []\n",
    "for index in primitive_features_indices:\n",
    "    PRI_tX.append(tX[:,index])\n",
    "PRI_tX = np.array(PRI_tX).T.reshape( (N_SAMPLES,N_PRI_FEAT) )\n",
    "#print(PRI_tX.shape)\n",
    "#print(tX[0:3,primitive_features_indices[0]])\n",
    "#print(tX[0:3,primitive_features_indices[1]])\n",
    "#print(PRI_tX[0:3,:])"
   ]
  },
  {
   "cell_type": "code",
   "execution_count": null,
   "metadata": {
    "collapsed": false
   },
   "outputs": [],
   "source": [
    "n_cols_plots=4\n",
    "n_rows_plots=int(N_PRI_FEAT/n_cols_plots)+1\n",
    "print ( \"plotting a %d x %d matrix\" % (n_cols_plots, n_rows_plots))\n",
    "#n_rows_plots=1\n",
    "#f, ax_array = plt.subplots(n_rows_plots, n_cols_plots, sharex='col', sharey='row')\n",
    "f, ax_array = plt.subplots(n_rows_plots, n_cols_plots, figsize=(16, 16 ))\n",
    "\n",
    "for row in range(n_rows_plots):\n",
    "    axes = ax_array[row]\n",
    "    for col in range(n_cols_plots):\n",
    "        #ax = ax_array[row*n_cols_plots + col]\n",
    "        if row*n_cols_plots + col < PRI_tX.shape[1]:\n",
    "            ax = axes[col]\n",
    "            data_to_plot=PRI_tX[:,row*n_cols_plots + col]\n",
    "            ax.scatter(range(N_SAMPLES), data_to_plot, c=y_colors,alpha=0.2)\n",
    "        \n",
    "        \n",
    "#figpath=os.path.join( os.getcwd(), \"..\", \"figures\", \"scatterplots.pdf\")\n",
    "#plt.savefig(figpath)\n",
    "#plt.show()"
   ]
  },
  {
   "cell_type": "markdown",
   "metadata": {},
   "source": [
    "## Derived features"
   ]
  },
  {
   "cell_type": "code",
   "execution_count": null,
   "metadata": {
    "collapsed": false
   },
   "outputs": [],
   "source": [
    "der_features_indices=[index for index,name in enumerate(feature_names) if name[0:3]=='DER']\n",
    "N_DER_FEAT=len(der_features_indices)\n",
    "print(\"detected %d primitive features\"%(N_DER_FEAT))\n",
    "#print(primitive_features_indices)\n",
    "#for index in primitive_features_indices:\n",
    "#    print(feature_names[index])"
   ]
  },
  {
   "cell_type": "code",
   "execution_count": null,
   "metadata": {
    "collapsed": false
   },
   "outputs": [],
   "source": [
    "DER_tX = []\n",
    "for index in der_features_indices:\n",
    "    DER_tX.append(tX[:,index])\n",
    "DER_tX = np.array(DER_tX).T.reshape( (N_SAMPLES,N_DER_FEAT) )\n",
    "#DERnt(DER_tX.shape)\n",
    "#DERnt(tX[0:3,DERmitive_features_indices[0]])\n",
    "#DERnt(tX[0:3,DERmitive_features_indices[1]])\n",
    "#DERnt(DER_tX[0:3,:])"
   ]
  },
  {
   "cell_type": "code",
   "execution_count": null,
   "metadata": {
    "collapsed": false
   },
   "outputs": [],
   "source": [
    "n_cols_plots=4\n",
    "n_rows_plots=int(N_DER_FEAT/n_cols_plots)+1\n",
    "print ( \"plotting a %d x %d matrix\" % (n_cols_plots, n_rows_plots))\n",
    "#n_rows_plots=1\n",
    "#f, ax_array = plt.subplots(n_rows_plots, n_cols_plots, sharex='col', sharey='row')\n",
    "f, ax_array = plt.subplots(n_rows_plots, n_cols_plots, figsize=(16, 16 ))\n",
    "\n",
    "for row in range(n_rows_plots):\n",
    "    axes = ax_array[row]\n",
    "    for col in range(n_cols_plots):\n",
    "        #ax = ax_array[row*n_cols_plots + col]\n",
    "        if row*n_cols_plots + col < DER_tX.shape[1]:\n",
    "            ax = axes[col]\n",
    "            data_to_plot=DER_tX[:,row*n_cols_plots + col]\n",
    "            ax.scatter(range(N_SAMPLES), data_to_plot, c=y_colors,alpha=0.2)\n",
    "        \n",
    "        \n",
    "#figpath=os.path.join( os.getcwd(), \"..\", \"figures\", \"scatterplots.pdf\")\n",
    "#plt.savefig(figpath)\n",
    "#plt.show()"
   ]
  },
  {
   "cell_type": "markdown",
   "metadata": {},
   "source": [
    "## Whiten Data"
   ]
  },
  {
   "cell_type": "code",
   "execution_count": 52,
   "metadata": {
    "collapsed": false,
    "scrolled": true
   },
   "outputs": [
    {
     "name": "stdout",
     "output_type": "stream",
     "text": [
      "(250000, 32)\n",
      "(32,)\n",
      "(32, 32)\n"
     ]
    }
   ],
   "source": [
    "to_whiten = train_tX\n",
    "U, s, Vt = np.linalg.svd(to_whiten, full_matrices=False)\n",
    "print(U.shape)\n",
    "print(s.shape)\n",
    "print(Vt.shape)\n",
    "N_WHIT_FEAT=s.shape[0]"
   ]
  },
  {
   "cell_type": "code",
   "execution_count": 53,
   "metadata": {
    "collapsed": true
   },
   "outputs": [],
   "source": [
    "whit_tX = U.dot(Vt)"
   ]
  },
  {
   "cell_type": "markdown",
   "metadata": {},
   "source": [
    "### Replot"
   ]
  },
  {
   "cell_type": "code",
   "execution_count": null,
   "metadata": {
    "collapsed": false
   },
   "outputs": [],
   "source": [
    "n_cols_plots=4\n",
    "n_rows_plots=int(N_WHIT_FEAT/n_cols_plots)+1\n",
    "print ( \"plotting a %d x %d matrix\" % (n_cols_plots, n_rows_plots))\n",
    "#n_rows_plots=1\n",
    "#f, ax_array = plt.subplots(n_rows_plots, n_cols_plots, sharex='col', sharey='row')\n",
    "f, ax_array = plt.subplots(n_rows_plots, n_cols_plots, figsize=(16, 16 ))\n",
    "\n",
    "for row in range(n_rows_plots):\n",
    "    axes = ax_array[row]\n",
    "    for col in range(n_cols_plots):\n",
    "        #ax = ax_array[row*n_cols_plots + col]\n",
    "        if row*n_cols_plots + col < whit_tX.shape[1]:\n",
    "            ax = axes[col]\n",
    "            data_to_plot=whit_tX[:,row*n_cols_plots + col]\n",
    "            ax.scatter(range(N_SAMPLES), data_to_plot, c=y_colors,alpha=0.2)\n",
    "        \n",
    "        \n",
    "#figpath=os.path.join( os.getcwd(), \"..\", \"figures\", \"scatterplots.pdf\")\n",
    "#plt.savefig(figpath)\n",
    "#plt.show()"
   ]
  },
  {
   "cell_type": "markdown",
   "metadata": {},
   "source": [
    "## Logistic Regression"
   ]
  },
  {
   "cell_type": "code",
   "execution_count": 54,
   "metadata": {
    "collapsed": true
   },
   "outputs": [],
   "source": [
    "def sigmoid(t):\n",
    "    \"\"\"apply sigmoid function on t.\"\"\"\n",
    "    return 1/(1+np.exp(-t))"
   ]
  },
  {
   "cell_type": "code",
   "execution_count": 55,
   "metadata": {
    "collapsed": true
   },
   "outputs": [],
   "source": [
    "def calculate_loss(y, tx, w):\n",
    "    \"\"\"compute the cost by negative log likelihood.\"\"\"\n",
    "    Xw = tx.dot(w)\n",
    "#    print(Xw.shape)\n",
    "#    print(y.shape)\n",
    "    LOG_part = np.log( 1 + np.exp( Xw ) )\n",
    "#    print(LOG_part.shape)\n",
    "    PROD_part = np.multiply(y.reshape(N_SAMPLES,1), Xw )\n",
    "#    print(PROD_part.shape)\n",
    "    a = LOG_part - PROD_part\n",
    "    return np.sum( a )"
   ]
  },
  {
   "cell_type": "code",
   "execution_count": 56,
   "metadata": {
    "collapsed": false
   },
   "outputs": [],
   "source": [
    "def calculate_gradient(y, tx, w):\n",
    "    \"\"\"compute the gradient of loss.\"\"\"\n",
    "    return tx.T.dot( sigmoid(tx.dot(w)) - y.reshape((tx.shape[0],1)) )\n"
   ]
  },
  {
   "cell_type": "markdown",
   "metadata": {},
   "source": [
    "## Gradient Descent"
   ]
  },
  {
   "cell_type": "code",
   "execution_count": null,
   "metadata": {
    "collapsed": false
   },
   "outputs": [],
   "source": [
    "def learning_by_gradient_descent(y, tx, w, gamma):\n",
    "    \"\"\"\n",
    "    Do one step of gradient descent using logistic regression.\n",
    "    Return the loss and the updated w.\n",
    "    \"\"\"\n",
    "\n",
    "    loss = calculate_loss(y, tx, w)\n",
    "    grad = calculate_gradient(y,tx, w)\n",
    "    w -= gamma*grad\n",
    "    \n",
    "    return loss, w"
   ]
  },
  {
   "cell_type": "code",
   "execution_count": null,
   "metadata": {
    "collapsed": true
   },
   "outputs": [],
   "source": [
    "from helpers import de_standardize\n",
    "from plots import visualization\n",
    "\n",
    "def logistic_regression_gradient_descent_demo(y, x):\n",
    "    # init parameters\n",
    "    max_iter = 10000\n",
    "    threshold = 1e-8\n",
    "    gamma = 0.001\n",
    "    losses = []\n",
    "\n",
    "    # build tx\n",
    "    tx = np.c_[.ones((y.shape[0], 1)), x]\n",
    "    w = np.zeros((tx.shape[1], 1))\n",
    "\n",
    "    # start the logistic regression\n",
    "    for iter in range(max_iter):\n",
    "        # get loss and update w.\n",
    "        loss, w = learning_by_gradient_descent(y, tx, w, gamma)\n",
    "        # log info\n",
    "        if iter % 100 == 0:\n",
    "            print(\"Current iteration={i}, the loss={l}\".format(i=iter, l=loss))\n",
    "        # converge criteria\n",
    "        losses.append(loss)\n",
    "        if len(losses) > 1 and np.abs(losses[-1] - losses[-2]) < threshold:\n",
    "            break\n",
    "    return losses, w"
   ]
  },
  {
   "cell_type": "code",
   "execution_count": null,
   "metadata": {
    "collapsed": false
   },
   "outputs": [],
   "source": [
    "losses, w_star = logistic_regression_gradient_descent_demo(y, whit_tX)\n",
    "#print(w_star.shape)\n",
    "#print(w_star)"
   ]
  },
  {
   "cell_type": "code",
   "execution_count": null,
   "metadata": {
    "collapsed": false
   },
   "outputs": [],
   "source": [
    "f = plt.figure()\n",
    "ax=f.add_subplot(2,1,1)\n",
    "ax.scatter(whit_tX[:,0],whit_tX[:,1], c=y_colors, alpha=0.1)\n",
    "\n",
    "ax=f.add_subplot(2,1,2)\n",
    "prediction = sigmoid(whit_tX[:,0:1].dot(w_star[1:2]))\n",
    "prediction = prediction < 0.5\n",
    "#ax.plot(prediction)\n",
    "ax.scatter(whit_tX[:,0],whit_tX[:,1], c=prediction, alpha=0.1)\n",
    "\n"
   ]
  },
  {
   "cell_type": "code",
   "execution_count": null,
   "metadata": {
    "collapsed": false
   },
   "outputs": [],
   "source": [
    "error = np.sum(np.abs(prediction - y.reshape(N_SAMPLES,1)))\n",
    "print(error)\n",
    "print(error/N_SAMPLES)"
   ]
  },
  {
   "cell_type": "markdown",
   "metadata": {},
   "source": [
    "## Newton's Method"
   ]
  },
  {
   "cell_type": "code",
   "execution_count": 57,
   "metadata": {
    "collapsed": true
   },
   "outputs": [],
   "source": [
    "def calculate_hessian(y, tx, w):\n",
    "    \"\"\"return the hessian of the loss function.\"\"\"\n",
    "    S1 = sigmoid(tx.dot(w))\n",
    "    S1 = S1.reshape((N_SAMPLES,1))\n",
    "#    print(S1.shape)\n",
    "    S2 = 1.0 - sigmoid(tx.dot(w))\n",
    "#    print(S2.shape)\n",
    "    S = np.multiply(S1,S2)\n",
    "#    print(S.shape)\n",
    "    S = scipy.sparse.spdiags(S[:,0], 0, N_SAMPLES, N_SAMPLES)\n",
    "    return tx.T.dot(S.dot(tx))"
   ]
  },
  {
   "cell_type": "code",
   "execution_count": 58,
   "metadata": {
    "collapsed": true
   },
   "outputs": [],
   "source": [
    "def logistic_regression(y, tx, w):\n",
    "    \"\"\"return the loss, gradient, and hessian.\"\"\"\n",
    "    loss = calculate_loss(y, tx, w)\n",
    "    grad = calculate_gradient(y,tx, w)\n",
    "    hess = calculate_hessian(y, tx, w)\n",
    "    return loss, grad, hess"
   ]
  },
  {
   "cell_type": "code",
   "execution_count": 59,
   "metadata": {
    "collapsed": true
   },
   "outputs": [],
   "source": [
    "def learning_by_newton_method(y, tx, w, gamma):\n",
    "    \"\"\"\n",
    "    Do one step on Newton's method.\n",
    "    return the loss and updated w.\n",
    "    \"\"\"\n",
    "    loss, grad, hess = logistic_regression(y,tx,w)\n",
    "    w -= gamma * np.linalg.inv(hess).dot(grad);\n",
    "    return loss, w"
   ]
  },
  {
   "cell_type": "code",
   "execution_count": 60,
   "metadata": {
    "collapsed": true
   },
   "outputs": [],
   "source": [
    "def logistic_regression_newton_method_demo(y, x):\n",
    "    # init parameters\n",
    "    max_iter = 1000\n",
    "    gamma = 0.25\n",
    "    threshold = 1e-8\n",
    "    lambda_ = 0.1\n",
    "    losses = []\n",
    "\n",
    "    # build tx\n",
    "    tx = np.c_[np.ones((y.shape[0], 1)), x]\n",
    "    w = np.zeros((tx.shape[1], 1))\n",
    "\n",
    "    # start the logistic regression\n",
    "    for iter in range(max_iter):\n",
    "        # get loss and update w.\n",
    "        loss, w = learning_by_newton_method(y, tx, w, gamma)\n",
    "        # log info\n",
    "        if iter % 5 == 0:\n",
    "            print(\"Current iteration={i}, the loss={l}\".format(i=iter, l=loss))\n",
    "        # converge criteria\n",
    "        losses.append(loss)\n",
    "        if len(losses) > 1 and np.abs(losses[-1] - losses[-2])/np.abs(losses[-1]) < threshold:\n",
    "            print(\"[Exit Condition Met]: Current iteration={i}, the loss={l}\".format(i=iter, l=loss)) \n",
    "            break\n",
    "    return losses, w"
   ]
  },
  {
   "cell_type": "code",
   "execution_count": 65,
   "metadata": {
    "collapsed": false,
    "scrolled": true
   },
   "outputs": [
    {
     "name": "stdout",
     "output_type": "stream",
     "text": [
      "Current iteration=0, the loss=173286.79513998624\n",
      "Current iteration=5, the loss=130395.26459199007\n",
      "Current iteration=10, the loss=124924.71986508014\n",
      "Current iteration=15, the loss=124381.26455609204\n",
      "Current iteration=20, the loss=124343.30326785737\n",
      "Current iteration=25, the loss=124341.03197649636\n",
      "Current iteration=30, the loss=124340.9021284504\n",
      "[Exit Condition Met]: Current iteration=33, the loss=124340.89573647684\n"
     ]
    }
   ],
   "source": [
    "losses, w_star = logistic_regression_newton_method_demo(y, tX)"
   ]
  },
  {
   "cell_type": "markdown",
   "metadata": {},
   "source": [
    "## Compute Predictions"
   ]
  },
  {
   "cell_type": "code",
   "execution_count": 67,
   "metadata": {
    "collapsed": false
   },
   "outputs": [],
   "source": [
    "tX_pred = np.c_[np.ones((y.shape[0], 1)), tX]\n",
    "prediction = sigmoid(tX_pred.dot(w_star))\n",
    "prediction = np.array( [ int(x) for x in (prediction > 0.5)] )"
   ]
  },
  {
   "cell_type": "markdown",
   "metadata": {},
   "source": [
    "## Plot predictions"
   ]
  },
  {
   "cell_type": "code",
   "execution_count": 63,
   "metadata": {
    "collapsed": false
   },
   "outputs": [
    {
     "data": {
      "text/plain": [
       "<matplotlib.collections.PathCollection at 0x7fa597d0f748>"
      ]
     },
     "execution_count": 63,
     "metadata": {},
     "output_type": "execute_result"
    },
    {
     "data": {
      "image/png": "[encoded data removed]",
      "text/plain": [
       "<matplotlib.figure.Figure at 0x7fa5b71a9630>"
      ]
     },
     "metadata": {},
     "output_type": "display_data"
    }
   ],
   "source": [
    "f = plt.figure()\n",
    "ax=f.add_subplot(2,2,1)\n",
    "ax.scatter(tX[:,0],tX[:,1], c=y_colors, alpha=0.1)\n",
    "\n",
    "ax=f.add_subplot(2,2,2)\n",
    "ax.scatter(tX[:,2],tX[:,3], c=y_colors, alpha=0.1)\n",
    "\n",
    "prediction_colors = np.array(['b']*N_SAMPLES)\n",
    "prediction_colors[prediction==0] = 'r'\n",
    "\n",
    "ax=f.add_subplot(2,2,3)\n",
    "ax.scatter(tX[:,0],tX[:,1], c=prediction_colors, alpha=0.1)\n",
    "\n",
    "ax=f.add_subplot(2,2,4)\n",
    "ax.scatter(tX[:,2],tX[:,3], c=prediction_colors, alpha=0.1)"
   ]
  },
  {
   "cell_type": "markdown",
   "metadata": {},
   "source": [
    "## Compute training error"
   ]
  },
  {
   "cell_type": "code",
   "execution_count": 68,
   "metadata": {
    "collapsed": false
   },
   "outputs": [
    {
     "name": "stdout",
     "output_type": "stream",
     "text": [
      "[0 1 0 ..., 0 1 0]\n",
      "[ 1.  0.  0. ...,  1.  0.  0.]\n",
      "62252.0\n",
      "0.249008\n"
     ]
    }
   ],
   "source": [
    "error = np.sum(np.abs(prediction - y))\n",
    "print(prediction)\n",
    "print(y)\n",
    "print(error)\n",
    "print(error/N_SAMPLES)"
   ]
  },
  {
   "cell_type": "code",
   "execution_count": null,
   "metadata": {
    "collapsed": true
   },
   "outputs": [],
   "source": []
  }
 ],
 "metadata": {
  "anaconda-cloud": {},
  "kernelspec": {
   "display_name": "Python [conda root]",
   "language": "python",
   "name": "conda-root-py"
  },
  "language_info": {
   "codemirror_mode": {
    "name": "ipython",
    "version": 3
   },
   "file_extension": ".py",
   "mimetype": "text/x-python",
   "name": "python",
   "nbconvert_exporter": "python",
   "pygments_lexer": "ipython3",
   "version": "3.5.2"
  }
 },
 "nbformat": 4,
 "nbformat_minor": 1
}
