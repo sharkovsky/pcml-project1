{
 "cells": [
  {
   "cell_type": "code",
   "execution_count": 1,
   "metadata": {
    "collapsed": false
   },
   "outputs": [],
   "source": [
    "# Useful starting lines\n",
    "%matplotlib inline\n",
    "import numpy as np\n",
    "import matplotlib.pyplot as plt\n",
    "%load_ext autoreload\n",
    "%autoreload 2"
   ]
  },
  {
   "cell_type": "code",
   "execution_count": 2,
   "metadata": {
    "collapsed": true
   },
   "outputs": [],
   "source": [
    "import os\n",
    "import scipy.sparse"
   ]
  },
  {
   "cell_type": "code",
   "execution_count": 3,
   "metadata": {
    "collapsed": false
   },
   "outputs": [
    {
     "name": "stdout",
     "output_type": "stream",
     "text": [
      "loaded training data: 250000 samples and 30 features\n",
      "\n"
     ]
    }
   ],
   "source": [
    "from proj1_helpers import *\n",
    "DATA_TRAIN_PATH = os.path.join( os.getcwd(), \"..\", \"data\", \"train.csv\")\n",
    "\n",
    "y, tX, ids = load_csv_data(DATA_TRAIN_PATH, sub_sample=False)\n",
    "N_FEATURES=tX.shape[1]\n",
    "N_SAMPLES=tX.shape[0]\n",
    "print( \"loaded training data: %d samples and %d features\\n\"%(N_SAMPLES, N_FEATURES) )"
   ]
  },
  {
   "cell_type": "code",
   "execution_count": 4,
   "metadata": {
    "collapsed": false
   },
   "outputs": [
    {
     "name": "stdout",
     "output_type": "stream",
     "text": [
      "[ 0.  1.]\n"
     ]
    }
   ],
   "source": [
    "y_colors = np.array(['b']*N_SAMPLES)\n",
    "y_colors[y==-1] = 'r'\n",
    "y += 1.\n",
    "y *= 0.5\n",
    "y_vals = np.unique(y)\n",
    "print(y_vals)\n",
    "# If I understood correctly, 1 are bosons, i.e. boson events will be colored in blue"
   ]
  },
  {
   "cell_type": "code",
   "execution_count": 5,
   "metadata": {
    "collapsed": true
   },
   "outputs": [],
   "source": [
    "path=os.path.join( os.getcwd(), \"..\", \"data\", \"y-labels.csv\")\n",
    "np.savetxt(path, y)"
   ]
  },
  {
   "cell_type": "code",
   "execution_count": 6,
   "metadata": {
    "collapsed": true
   },
   "outputs": [],
   "source": [
    "feature_names=('DER_mass_MMC' , 'DER_mass_transverse_met_lep' , 'DER_mass_vis' , 'DER_pt_h' , 'DER_deltaeta_jet_jet' , 'DER_mass_jet_jet' , 'DER_prodeta_jet_jet' , 'DER_deltar_tau_lep' , 'DER_pt_tot' , 'DER_sum_pt' , 'DER_pt_ratio_lep_tau' , 'DER_met_phi_centrality' , 'DER_lep_eta_centrality' , 'PRI_tau_pt' , 'PRI_tau_eta' , 'PRI_tau_phi' , 'PRI_lep_pt' , 'PRI_lep_eta' , 'PRI_lep_phi' , 'PRI_met' , 'PRI_met_phi' , 'PRI_met_sumet' , 'PRI_jet_num' , 'PRI_jet_leading_pt' , 'PRI_jet_leading_eta' , 'PRI_jet_leading_phi' , 'PRI_jet_subleading_pt' , 'PRI_jet_subleading_eta' , 'PRI_jet_subleading_phi' , 'PRI_jet_all_pt')"
   ]
  },
  {
   "cell_type": "markdown",
   "metadata": {},
   "source": [
    "## Plot once"
   ]
  },
  {
   "cell_type": "code",
   "execution_count": null,
   "metadata": {
    "collapsed": false
   },
   "outputs": [],
   "source": [
    "n_cols_plots=5\n",
    "n_rows_plots=int(N_FEATURES/n_cols_plots)+1\n",
    "print ( \"plotting a %d x %d matrix\" % (n_cols_plots, n_rows_plots))\n",
    "#n_rows_plots=1\n",
    "#f, ax_array = plt.subplots(n_rows_plots, n_cols_plots, sharex='col', sharey='row')\n",
    "f, ax_array = plt.subplots(n_rows_plots, n_cols_plots, figsize=(16, 16 ))\n",
    "\n",
    "for row in range(n_rows_plots):\n",
    "    axes = ax_array[row]\n",
    "    for col in range(n_cols_plots):\n",
    "        #ax = ax_array[row*n_cols_plots + col]\n",
    "        if row*n_cols_plots + col < tX.shape[1]:\n",
    "            ax = axes[col]\n",
    "            data_to_plot=tX[:,row*n_cols_plots + col]\n",
    "            ax.scatter(range(N_SAMPLES), data_to_plot, c=y_colors,alpha=0.2)\n",
    "        \n",
    "        \n",
    "#figpath=os.path.join( os.getcwd(), \"..\", \"figures\", \"scatterplots.pdf\")\n",
    "#plt.savefig(figpath)\n",
    "#plt.show()"
   ]
  },
  {
   "cell_type": "markdown",
   "metadata": {},
   "source": [
    "#### Plot a given feature for detailed inspection "
   ]
  },
  {
   "cell_type": "code",
   "execution_count": null,
   "metadata": {
    "collapsed": false
   },
   "outputs": [],
   "source": [
    "feat_index_to_plot=0\n",
    "f, axes = plt.subplots(1,1)\n",
    "axes.scatter(range(N_SAMPLES), tX[:,feat_index_to_plot], c=y_colors, alpha=0.2)"
   ]
  },
  {
   "cell_type": "markdown",
   "metadata": {},
   "source": [
    "## Correlation coefficient matrix"
   ]
  },
  {
   "cell_type": "code",
   "execution_count": null,
   "metadata": {
    "collapsed": false
   },
   "outputs": [],
   "source": [
    "SIGMA = np.corrcoef(tX, rowvar=False)"
   ]
  },
  {
   "cell_type": "code",
   "execution_count": null,
   "metadata": {
    "collapsed": false
   },
   "outputs": [],
   "source": [
    "plt.imshow(SIGMA)\n",
    "plt.colorbar()"
   ]
  },
  {
   "cell_type": "markdown",
   "metadata": {},
   "source": [
    "#### Plot a given feature pair for detailed inspection "
   ]
  },
  {
   "cell_type": "code",
   "execution_count": null,
   "metadata": {
    "collapsed": false
   },
   "outputs": [],
   "source": [
    "first_feat_index_to_plot=26\n",
    "second_feat_index_to_plot=27\n",
    "f, axes = plt.subplots(1,1)\n",
    "axes.scatter(tX[:,first_feat_index_to_plot], tX[:,second_feat_index_to_plot], c=y_colors, alpha=0.2)"
   ]
  },
  {
   "cell_type": "markdown",
   "metadata": {},
   "source": [
    "## Remove NaNs\n",
    "preliminary step for median imputation below"
   ]
  },
  {
   "cell_type": "code",
   "execution_count": 7,
   "metadata": {
    "collapsed": false
   },
   "outputs": [
    {
     "name": "stdout",
     "output_type": "stream",
     "text": [
      "181886\n"
     ]
    }
   ],
   "source": [
    "NaN_indices =  np.where( tX < -900.0 )[0] \n",
    "NaN_indices = np.unique(NaN_indices)\n",
    "print(len(NaN_indices))"
   ]
  },
  {
   "cell_type": "code",
   "execution_count": 8,
   "metadata": {
    "collapsed": false
   },
   "outputs": [
    {
     "name": "stdout",
     "output_type": "stream",
     "text": [
      "(250000, 30)\n",
      "(250000, 30)\n",
      "(68114, 30)\n"
     ]
    }
   ],
   "source": [
    "print(tX.shape)\n",
    "tX_no_NaN = np.delete(tX, NaN_indices, axis=0)\n",
    "y_no_NaN = np.delete(y, NaN_indices, axis=0)\n",
    "print(tX.shape)\n",
    "print(tX_no_NaN.shape)\n",
    "y_colors = np.delete(y_colors, NaN_indices, axis=0)\n",
    "N_SAMPLES_ORIG = N_SAMPLES\n",
    "N_SAMPLES=tX_no_NaN.shape[0]"
   ]
  },
  {
   "cell_type": "markdown",
   "metadata": {},
   "source": [
    "## Median imputation of NaNs"
   ]
  },
  {
   "cell_type": "code",
   "execution_count": 9,
   "metadata": {
    "collapsed": false
   },
   "outputs": [],
   "source": [
    "medians = list()\n",
    "for feature in range(N_FEATURES):\n",
    "    medians.append( np.median(tX_no_NaN[:,feature]) )"
   ]
  },
  {
   "cell_type": "code",
   "execution_count": 10,
   "metadata": {
    "collapsed": false
   },
   "outputs": [
    {
     "name": "stdout",
     "output_type": "stream",
     "text": [
      "(250000, 30)\n"
     ]
    }
   ],
   "source": [
    "tX_med_imput = tX\n",
    "for feature in range(N_FEATURES):\n",
    "    np.place(tX_med_imput[:,feature], (tX_med_imput[:,feature]< -900.0),  medians[feature] )\n",
    "print(tX_med_imput.shape)"
   ]
  },
  {
   "cell_type": "markdown",
   "metadata": {},
   "source": [
    "#### Plot a given feature for detailed inspection "
   ]
  },
  {
   "cell_type": "code",
   "execution_count": null,
   "metadata": {
    "collapsed": false
   },
   "outputs": [],
   "source": [
    "feat_index_to_plot=0\n",
    "print(medians[feat_index_to_plot])\n",
    "f, axes = plt.subplots(1,1)\n",
    "axes.scatter(range(N_SAMPLES_ORIG), tX_med_imput[:,feat_index_to_plot], c=y_colors, alpha=0.2)"
   ]
  },
  {
   "cell_type": "markdown",
   "metadata": {},
   "source": [
    "#### Save data"
   ]
  },
  {
   "cell_type": "code",
   "execution_count": null,
   "metadata": {
    "collapsed": true
   },
   "outputs": [],
   "source": [
    "path=os.path.join( os.getcwd(), \"..\", \"data\", \"train-no-NaNs.csv\")\n",
    "np.savetxt(path, tX_no_NaN)\n",
    "path=os.path.join( os.getcwd(), \"..\", \"data\", \"train-median-imput.csv\")\n",
    "np.savetxt(path, tX_med_imput)\n",
    "path=os.path.join( os.getcwd(), \"..\", \"data\", \"y-labels-no-NaNs.csv\")\n",
    "np.savetxt(path, y_no_NaN)"
   ]
  },
  {
   "cell_type": "markdown",
   "metadata": {},
   "source": [
    "### Replot correlation coefficient"
   ]
  },
  {
   "cell_type": "code",
   "execution_count": null,
   "metadata": {
    "collapsed": false
   },
   "outputs": [],
   "source": [
    "SIGMA = np.corrcoef(tX_no_NaN, rowvar=False)"
   ]
  },
  {
   "cell_type": "code",
   "execution_count": null,
   "metadata": {
    "collapsed": false
   },
   "outputs": [],
   "source": [
    "plt.imshow(SIGMA, interpolation='none')\n",
    "plt.colorbar()\n",
    "figpath=os.path.join( os.getcwd(), \"..\", \"figures\", \"corr-coef-matrix.pdf\")\n",
    "plt.savefig(figpath)"
   ]
  },
  {
   "cell_type": "code",
   "execution_count": null,
   "metadata": {
    "collapsed": false
   },
   "outputs": [],
   "source": [
    "first_feat_index_to_plot=9\n",
    "second_feat_index_to_plot=21\n",
    "f, axes = plt.subplots(1,1)\n",
    "axes.scatter(tX_no_NaN[:,second_feat_index_to_plot], tX_no_NaN[:,first_feat_index_to_plot], c=y_colors, alpha=0.2)\n",
    "print(\"Correlation Coefficient: {c}\".format(c=SIGMA[first_feat_index_to_plot,second_feat_index_to_plot]))"
   ]
  },
  {
   "cell_type": "code",
   "execution_count": null,
   "metadata": {
    "collapsed": false
   },
   "outputs": [],
   "source": [
    "first_feat_index_to_plot=9\n",
    "second_feat_index_to_plot=29\n",
    "f, axes = plt.subplots(1,1)\n",
    "axes.scatter(tX_no_NaN[:,second_feat_index_to_plot], tX_no_NaN[:,first_feat_index_to_plot], c=y_colors, alpha=0.2)\n",
    "print(\"Correlation Coefficient between {na} and {nb}: {c}\".format(\n",
    "        na=feature_names[first_feat_index_to_plot],\n",
    "        nb=feature_names[second_feat_index_to_plot],\n",
    "        c=SIGMA[first_feat_index_to_plot,second_feat_index_to_plot]),\n",
    "     )"
   ]
  },
  {
   "cell_type": "markdown",
   "metadata": {},
   "source": [
    "## Remove highly correlated features"
   ]
  },
  {
   "cell_type": "code",
   "execution_count": 11,
   "metadata": {
    "collapsed": false
   },
   "outputs": [],
   "source": [
    "to_remove = [9]\n",
    "tX_from = tX_med_imput\n",
    "tX_rem = np.delete(tX_from, to_remove, axis=1)\n",
    "#tX_rem = np.delete(tX_no_NaN, to_remove, axis=1)"
   ]
  },
  {
   "cell_type": "markdown",
   "metadata": {},
   "source": [
    "## Replot all features"
   ]
  },
  {
   "cell_type": "code",
   "execution_count": null,
   "metadata": {
    "collapsed": false
   },
   "outputs": [],
   "source": [
    "N_FEATURES = tX.shape[1]\n",
    "n_cols_plots=5\n",
    "n_rows_plots=int(N_FEATURES/n_cols_plots)+1\n",
    "print ( \"plotting a %d x %d matrix\" % (n_cols_plots, n_rows_plots))\n",
    "#n_rows_plots=1\n",
    "#f, ax_array = plt.subplots(n_rows_plots, n_cols_plots, sharex='col', sharey='row')\n",
    "f, ax_array = plt.subplots(n_rows_plots, n_cols_plots, figsize=(16, 16 ))\n",
    "\n",
    "for row in range(n_rows_plots):\n",
    "    axes = ax_array[row]\n",
    "    for col in range(n_cols_plots):\n",
    "        #ax = ax_array[row*n_cols_plots + col]\n",
    "        if row*n_cols_plots + col < tX.shape[1]:\n",
    "            ax = axes[col]\n",
    "            data_to_plot=tX[:,row*n_cols_plots + col]\n",
    "            ax.scatter(range(N_SAMPLES), data_to_plot, c=y_colors,alpha=0.2)\n",
    "        \n",
    "        \n",
    "#figpath=os.path.join( os.getcwd(), \"..\", \"figures\", \"scatterplots.pdf\")\n",
    "#plt.savefig(figpath)\n",
    "#plt.show()"
   ]
  },
  {
   "cell_type": "markdown",
   "metadata": {},
   "source": [
    "## Treat categorical feature"
   ]
  },
  {
   "cell_type": "code",
   "execution_count": 12,
   "metadata": {
    "collapsed": false
   },
   "outputs": [
    {
     "name": "stdout",
     "output_type": "stream",
     "text": [
      "[ 0.  1.  2.  3.]\n"
     ]
    }
   ],
   "source": [
    "tX_w_dummy = tX_rem\n",
    "N_SAMPLES = tX_w_dummy.shape[0]\n",
    "candidate_categorical_features = [21]\n",
    "# make sure it is categorical\n",
    "for candidate in candidate_categorical_features:\n",
    "    print(np.unique(tX_w_dummy[:,candidate]))\n",
    "    \n",
    "# only select the features that are really categorical\n",
    "categorical_features = candidate_categorical_features"
   ]
  },
  {
   "cell_type": "code",
   "execution_count": 13,
   "metadata": {
    "collapsed": false
   },
   "outputs": [
    {
     "name": "stdout",
     "output_type": "stream",
     "text": [
      "(250000, 1)\n"
     ]
    }
   ],
   "source": [
    "# make a copy\n",
    "categorical_feature_data = np.array([]).reshape((N_SAMPLES,0))\n",
    "for cat_feat in categorical_features:\n",
    "    categorical_feature_data = np.c_[categorical_feature_data, tX_w_dummy[:,cat_feat]]\n",
    "print(categorical_feature_data.shape)"
   ]
  },
  {
   "cell_type": "code",
   "execution_count": 14,
   "metadata": {
    "collapsed": false
   },
   "outputs": [
    {
     "name": "stdout",
     "output_type": "stream",
     "text": [
      "(250000, 28)\n"
     ]
    }
   ],
   "source": [
    "# Remove it from the list of features (temporarily)\n",
    "for cat_feat in categorical_features:\n",
    "    tX_w_dummy = np.delete(tX_w_dummy, cat_feat, axis=1)\n",
    "print(tX_w_dummy.shape)"
   ]
  },
  {
   "cell_type": "code",
   "execution_count": 15,
   "metadata": {
    "collapsed": true
   },
   "outputs": [],
   "source": [
    "def create_dummy_variables(categorical_dataset):\n",
    "    \"\"\"takes a single categorical feature and returns the corresponding matrix of dummy variables (of size n_levels - 1)\"\"\"\n",
    "    levels = np.unique(categorical_dataset)\n",
    "    num_levels = levels.shape[0]\n",
    "    levels = np.delete(levels, -1, axis=0)\n",
    "    num_samples = categorical_dataset.shape[0]\n",
    "    dummy_features = np.array([]).reshape(num_samples,0)\n",
    "    for level in levels:\n",
    "        dummy_tmp = (categorical_dataset == level)\n",
    "        dummy_tmp = np.array( [int(x) for x in dummy_tmp] )\n",
    "        dummy_features = np.c_[dummy_features, dummy_tmp ]\n",
    "    return dummy_features"
   ]
  },
  {
   "cell_type": "code",
   "execution_count": 16,
   "metadata": {
    "collapsed": false
   },
   "outputs": [
    {
     "name": "stdout",
     "output_type": "stream",
     "text": [
      "[[ 0.  0.  1.]\n",
      " [ 0.  1.  0.]\n",
      " [ 0.  1.  0.]\n",
      " ..., \n",
      " [ 0.  1.  0.]\n",
      " [ 1.  0.  0.]\n",
      " [ 1.  0.  0.]]\n"
     ]
    }
   ],
   "source": [
    "# Test this out\n",
    "dummy = create_dummy_variables(categorical_feature_data[:,0])\n",
    "print(dummy)"
   ]
  },
  {
   "cell_type": "markdown",
   "metadata": {},
   "source": [
    "Now `tX_w_dummy` is a partial dataset without categorical variables and without dummy data "
   ]
  },
  {
   "cell_type": "markdown",
   "metadata": {},
   "source": [
    "## Add dummy variables to dataset"
   ]
  },
  {
   "cell_type": "code",
   "execution_count": 17,
   "metadata": {
    "collapsed": false
   },
   "outputs": [
    {
     "name": "stdout",
     "output_type": "stream",
     "text": [
      "creating dummy data for 1 categorical variables\n",
      "(250000, 28)\n"
     ]
    }
   ],
   "source": [
    "train_tX = tX_w_dummy\n",
    "print(\"creating dummy data for {d} categorical variables\".format(d=categorical_feature_data.shape[1]))\n",
    "print(train_tX.shape)"
   ]
  },
  {
   "cell_type": "code",
   "execution_count": 18,
   "metadata": {
    "collapsed": false
   },
   "outputs": [
    {
     "name": "stdout",
     "output_type": "stream",
     "text": [
      "(250000, 31)\n"
     ]
    }
   ],
   "source": [
    "for index in range(categorical_feature_data.shape[1]):\n",
    "    train_tX = np.c_[train_tX, create_dummy_variables(categorical_feature_data[:,index])]\n",
    "print(train_tX.shape)"
   ]
  },
  {
   "cell_type": "markdown",
   "metadata": {},
   "source": [
    "Now `train_tX` is the full dataset containing also dummy variables.\n",
    "\n",
    "Now we want to save the data"
   ]
  },
  {
   "cell_type": "code",
   "execution_count": null,
   "metadata": {
    "collapsed": true
   },
   "outputs": [],
   "source": [
    "path=os.path.join( os.getcwd(), \"..\", \"data\", \"training-data-with-dummy-vars-med-impu-NaNs-removed-corr.csv\")\n",
    "np.savetxt(path, train_tX)"
   ]
  },
  {
   "cell_type": "markdown",
   "metadata": {},
   "source": [
    "## Whiten Data"
   ]
  },
  {
   "cell_type": "code",
   "execution_count": null,
   "metadata": {
    "collapsed": false
   },
   "outputs": [],
   "source": [
    "# Using SVD (not sure)\n",
    "#to_whiten = train_tX\n",
    "#meanX = np.mean(to_whiten, axis=0)\n",
    "#to_whiten = to_whiten - meanX\n",
    "#U, s, Vt = np.linalg.svd(to_whiten)\n",
    "#print(U.shape)\n",
    "#print(s.shape)\n",
    "#print(Vt.shape)\n",
    "#N_WHIT_FEAT=s.shape[0]"
   ]
  },
  {
   "cell_type": "code",
   "execution_count": 19,
   "metadata": {
    "collapsed": true
   },
   "outputs": [],
   "source": [
    "# Using PCA\n",
    "to_whiten = train_tX\n",
    "meanX = np.mean(to_whiten, axis=0)\n",
    "to_whiten = to_whiten - meanX\n",
    "SIGMA = np.cov(to_whiten, rowvar=False)\n",
    "\n",
    "lambdas, eig_vecs = np.linalg.eig(SIGMA)"
   ]
  },
  {
   "cell_type": "code",
   "execution_count": 20,
   "metadata": {
    "collapsed": false
   },
   "outputs": [
    {
     "name": "stdout",
     "output_type": "stream",
     "text": [
      "(31,)\n",
      "(31, 31)\n",
      "(31, 31)\n",
      "(250000, 31)\n"
     ]
    }
   ],
   "source": [
    "whit_tX = np.power(lambdas, -0.5)\n",
    "print(whit_tX.shape)\n",
    "whit_tX = np.diag(whit_tX)\n",
    "print(whit_tX.shape)\n",
    "print(eig_vecs.shape)\n",
    "whit_tX = whit_tX.dot(eig_vecs.T)\n",
    "whit_tX = whit_tX.dot(to_whiten.T)\n",
    "whit_tX = whit_tX.T\n",
    "print(whit_tX.shape)"
   ]
  },
  {
   "cell_type": "code",
   "execution_count": 21,
   "metadata": {
    "collapsed": false
   },
   "outputs": [
    {
     "data": {
      "text/plain": [
       "<matplotlib.colorbar.Colorbar at 0x7f906212aac8>"
      ]
     },
     "execution_count": 21,
     "metadata": {},
     "output_type": "execute_result"
    },
    {
     "data": {
      "image/png": "[encoded data removed]",
      "text/plain": [
       "<matplotlib.figure.Figure at 0x7f90831ecba8>"
      ]
     },
     "metadata": {},
     "output_type": "display_data"
    }
   ],
   "source": [
    "SIGMA = np.corrcoef(whit_tX, rowvar=False)\n",
    "plt.imshow(SIGMA, interpolation='none')\n",
    "plt.colorbar()"
   ]
  },
  {
   "cell_type": "markdown",
   "metadata": {},
   "source": [
    "#### Plot a given feature for detailed inspection "
   ]
  },
  {
   "cell_type": "markdown",
   "metadata": {},
   "source": [
    "## Normalize by max"
   ]
  },
  {
   "cell_type": "code",
   "execution_count": 28,
   "metadata": {
    "collapsed": false
   },
   "outputs": [
    {
     "name": "stdout",
     "output_type": "stream",
     "text": [
      "1.0\n",
      "1.0\n"
     ]
    }
   ],
   "source": [
    "print(np.max(whit_tX))\n",
    "for feat in range(whit_tX.shape[1]):\n",
    "    whit_tX[:,feat] /= np.max(np.abs(whit_tX[:,feat]))\n",
    "print(np.max(np.abs(whit_tX)))"
   ]
  },
  {
   "cell_type": "code",
   "execution_count": 29,
   "metadata": {
    "collapsed": false
   },
   "outputs": [
    {
     "data": {
      "text/plain": [
       "<matplotlib.collections.PathCollection at 0x7f906cf3d1d0>"
      ]
     },
     "execution_count": 29,
     "metadata": {},
     "output_type": "execute_result"
    },
    {
     "data": {
      "image/png": "[encoded data removed]",
      "text/plain": [
       "<matplotlib.figure.Figure at 0x7f906c9a6908>"
      ]
     },
     "metadata": {},
     "output_type": "display_data"
    }
   ],
   "source": [
    "feat_index_to_plot=1\n",
    "f, axes = plt.subplots(1,1)\n",
    "axes.scatter(range(N_SAMPLES_ORIG), whit_tX[:,feat_index_to_plot], c=y_colors, alpha=0.2)"
   ]
  },
  {
   "cell_type": "markdown",
   "metadata": {},
   "source": [
    "Now `whit_tX` is the full dataset, whitened and containing dummy variables.\n",
    "\n",
    "Now we want to save the data"
   ]
  },
  {
   "cell_type": "code",
   "execution_count": 30,
   "metadata": {
    "collapsed": false
   },
   "outputs": [
    {
     "name": "stdout",
     "output_type": "stream",
     "text": [
      "(250000, 31)\n",
      "1.0\n"
     ]
    }
   ],
   "source": [
    "print(whit_tX.shape)\n",
    "print(np.max(np.abs(whit_tX)))\n",
    "path=os.path.join( os.getcwd(), \"..\", \"data\", \"training-data-whitened-using-PCA-with-dummy-vars-med-imput-NaNs.csv\")\n",
    "np.savetxt(path, whit_tX)"
   ]
  },
  {
   "cell_type": "markdown",
   "metadata": {},
   "source": [
    "## Standardize Data\n",
    "looks like whitening, but doesn't touch correlations. The standardized data has mean 0 and variance 1 for any feature, but the correlations between features are preserved."
   ]
  },
  {
   "cell_type": "code",
   "execution_count": null,
   "metadata": {
    "collapsed": false
   },
   "outputs": [],
   "source": [
    "std_tX = train_tX\n",
    "print(std_tX.shape)\n",
    "meanX = np.mean(std_tX, axis=0)\n",
    "#print(meanX)\n",
    "#print(std_tX[0,:])\n",
    "std_tX = std_tX - meanX\n",
    "#print(std_tX[0,:])"
   ]
  },
  {
   "cell_type": "code",
   "execution_count": null,
   "metadata": {
    "collapsed": false
   },
   "outputs": [],
   "source": [
    "stdX = np.std(std_tX, axis=0)\n",
    "invStdX = 1.0 / stdX\n",
    "std_tX = np.diag(invStdX).dot(std_tX.T)\n",
    "std_tX = std_tX.T"
   ]
  },
  {
   "cell_type": "code",
   "execution_count": null,
   "metadata": {
    "collapsed": true
   },
   "outputs": [],
   "source": [
    "path=os.path.join( os.getcwd(), \"..\", \"data\", \"training-data-standardized-with-dummy-vars-with-NaNs-removed-corr.csv\")\n",
    "np.savetxt(path, std_tX)"
   ]
  },
  {
   "cell_type": "markdown",
   "metadata": {},
   "source": [
    "### Replot"
   ]
  },
  {
   "cell_type": "code",
   "execution_count": null,
   "metadata": {
    "collapsed": false
   },
   "outputs": [],
   "source": [
    "n_cols_plots=4\n",
    "n_rows_plots=int(N_WHIT_FEAT/n_cols_plots)+1\n",
    "print ( \"plotting a %d x %d matrix\" % (n_cols_plots, n_rows_plots))\n",
    "#n_rows_plots=1\n",
    "#f, ax_array = plt.subplots(n_rows_plots, n_cols_plots, sharex='col', sharey='row')\n",
    "f, ax_array = plt.subplots(n_rows_plots, n_cols_plots, figsize=(16, 16 ))\n",
    "\n",
    "for row in range(n_rows_plots):\n",
    "    axes = ax_array[row]\n",
    "    for col in range(n_cols_plots):\n",
    "        #ax = ax_array[row*n_cols_plots + col]\n",
    "        if row*n_cols_plots + col < whit_tX.shape[1]:\n",
    "            ax = axes[col]\n",
    "            data_to_plot=whit_tX[:,row*n_cols_plots + col]\n",
    "            ax.scatter(range(N_SAMPLES), data_to_plot, c=y_colors,alpha=0.2)\n",
    "        \n",
    "        \n",
    "#figpath=os.path.join( os.getcwd(), \"..\", \"figures\", \"scatterplots.pdf\")\n",
    "#plt.savefig(figpath)\n",
    "#plt.show()"
   ]
  },
  {
   "cell_type": "markdown",
   "metadata": {},
   "source": [
    "## PCA Analysis (optional)"
   ]
  },
  {
   "cell_type": "code",
   "execution_count": null,
   "metadata": {
    "collapsed": false
   },
   "outputs": [],
   "source": [
    "PCA_tX = train_tX\n",
    "meanX = np.mean(PCA_tX, axis=0)\n",
    "PCA_tX = PCA_tX - meanX\n",
    "N_SAMPLES = PCA_tX.shape[0]\n",
    "SIGMA = np.cov(PCA_tX, rowvar=False)\n",
    "print(SIGMA.shape)"
   ]
  },
  {
   "cell_type": "code",
   "execution_count": null,
   "metadata": {
    "collapsed": true
   },
   "outputs": [],
   "source": [
    "lambdas, eig_vecs = np.linalg.eig(SIGMA)"
   ]
  },
  {
   "cell_type": "code",
   "execution_count": null,
   "metadata": {
    "collapsed": false
   },
   "outputs": [],
   "source": [
    "plt.plot(range(len(lambdas)), lambdas/np.sum(lambdas), '-*')"
   ]
  },
  {
   "cell_type": "code",
   "execution_count": null,
   "metadata": {
    "collapsed": false
   },
   "outputs": [],
   "source": [
    "# compute transform matrix\n",
    "k = 8 # how many components you want to keep\n",
    "print(\"Total explained variance: {v}\".format(v=np.sum(lambdas[0:k])/np.sum(lambdas)))\n",
    "F = eig_vecs[:,0:k]\n",
    "LAMBDA=lambdas[0:k]\n",
    "LAMBDA=np.power(LAMBDA, -0.5)\n",
    "LAMBDA=np.diag(LAMBDA)\n",
    "print(LAMBDA.shape)\n",
    "print(F.shape)\n",
    "print(PCA_tX.shape)\n",
    "#PCA_tX = PCA_tX.dot(F.dot(LAMBDA))\n",
    "PCA_tX = LAMBDA.dot( F.T.dot( PCA_tX.T ))\n",
    "PCA_tX = PCA_tX.T\n",
    "print(PCA_tX.shape)"
   ]
  },
  {
   "cell_type": "code",
   "execution_count": null,
   "metadata": {
    "collapsed": false
   },
   "outputs": [],
   "source": [
    "SIGMA = np.corrcoef(PCA_tX, rowvar=False)\n",
    "plt.imshow(SIGMA, interpolation='none')\n",
    "plt.colorbar()"
   ]
  },
  {
   "cell_type": "markdown",
   "metadata": {},
   "source": [
    "#### Plot a given feature for detailed inspection "
   ]
  },
  {
   "cell_type": "code",
   "execution_count": null,
   "metadata": {
    "collapsed": false
   },
   "outputs": [],
   "source": [
    "feat_index_to_plot=0\n",
    "f, axes = plt.subplots(1,1)\n",
    "axes.scatter(range(N_SAMPLES_ORIG), PCA_tX[:,feat_index_to_plot], c=y_colors, alpha=0.2)"
   ]
  },
  {
   "cell_type": "code",
   "execution_count": null,
   "metadata": {
    "collapsed": false
   },
   "outputs": [],
   "source": [
    "path=os.path.join( os.getcwd(), \"..\", \"data\", \"training-data-pca-with-dummy-vars-med-imput-NaNs.csv\")\n",
    "np.savetxt(path, PCA_tX)"
   ]
  },
  {
   "cell_type": "markdown",
   "metadata": {},
   "source": [
    "# Additional splitting of data (optional)"
   ]
  },
  {
   "cell_type": "markdown",
   "metadata": {},
   "source": [
    "I tried playing around with this a bit, but I didn't seem to get any interesting results"
   ]
  },
  {
   "cell_type": "markdown",
   "metadata": {},
   "source": [
    "\n",
    "## Primitive Features"
   ]
  },
  {
   "cell_type": "code",
   "execution_count": null,
   "metadata": {
    "collapsed": false
   },
   "outputs": [],
   "source": [
    "primitive_features_indices=[index for index,name in enumerate(feature_names) if name[0:3]=='PRI']\n",
    "N_PRI_FEAT=len(primitive_features_indices)\n",
    "N_SAMPLES_ORIG = tX.shape[0]\n",
    "print(\"detected %d primitive features\"%(N_PRI_FEAT))\n",
    "#print(primitive_features_indices)\n",
    "#for index in primitive_features_indices:\n",
    "#    print(feature_names[index])"
   ]
  },
  {
   "cell_type": "code",
   "execution_count": null,
   "metadata": {
    "collapsed": false
   },
   "outputs": [],
   "source": [
    "PRI_tX = np.array([]).reshape((N_SAMPLES_ORIG,0))\n",
    "for index in primitive_features_indices:\n",
    "    PRI_tX = np.c_[PRI_tX, tX[:,index]]\n",
    "print(PRI_tX.shape)"
   ]
  },
  {
   "cell_type": "code",
   "execution_count": null,
   "metadata": {
    "collapsed": false
   },
   "outputs": [],
   "source": [
    "n_cols_plots=4\n",
    "n_rows_plots=int(N_PRI_FEAT/n_cols_plots)+1\n",
    "print ( \"plotting a %d x %d matrix\" % (n_cols_plots, n_rows_plots))\n",
    "#n_rows_plots=1\n",
    "#f, ax_array = plt.subplots(n_rows_plots, n_cols_plots, sharex='col', sharey='row')\n",
    "f, ax_array = plt.subplots(n_rows_plots, n_cols_plots, figsize=(16, 16 ))\n",
    "\n",
    "for row in range(n_rows_plots):\n",
    "    axes = ax_array[row]\n",
    "    for col in range(n_cols_plots):\n",
    "        #ax = ax_array[row*n_cols_plots + col]\n",
    "        if row*n_cols_plots + col < PRI_tX.shape[1]:\n",
    "            ax = axes[col]\n",
    "            data_to_plot=PRI_tX[:,row*n_cols_plots + col]\n",
    "            ax.scatter(range(N_SAMPLES_ORIG), data_to_plot, c=y_colors,alpha=0.2, label=feature_names[row*n_cols_plots + col])\n",
    "        \n",
    "        \n",
    "#figpath=os.path.join( os.getcwd(), \"..\", \"figures\", \"scatterplots.pdf\")\n",
    "#plt.savefig(figpath)\n",
    "#plt.show()"
   ]
  },
  {
   "cell_type": "markdown",
   "metadata": {},
   "source": [
    "## Derived features"
   ]
  },
  {
   "cell_type": "code",
   "execution_count": null,
   "metadata": {
    "collapsed": false
   },
   "outputs": [],
   "source": [
    "der_features_indices=[index for index,name in enumerate(feature_names) if name[0:3]=='DER']\n",
    "N_DER_FEAT=len(der_features_indices)\n",
    "print(\"detected %d primitive features\"%(N_DER_FEAT))\n",
    "#print(primitive_features_indices)\n",
    "#for index in primitive_features_indices:\n",
    "#    print(feature_names[index])"
   ]
  },
  {
   "cell_type": "code",
   "execution_count": null,
   "metadata": {
    "collapsed": false
   },
   "outputs": [],
   "source": [
    "DER_tX = []\n",
    "for index in der_features_indices:\n",
    "    DER_tX.append(tX[:,index])\n",
    "DER_tX = np.array(DER_tX).T.reshape( (N_SAMPLES,N_DER_FEAT) )\n",
    "#DERnt(DER_tX.shape)\n",
    "#DERnt(tX[0:3,DERmitive_features_indices[0]])\n",
    "#DERnt(tX[0:3,DERmitive_features_indices[1]])\n",
    "#DERnt(DER_tX[0:3,:])"
   ]
  },
  {
   "cell_type": "code",
   "execution_count": null,
   "metadata": {
    "collapsed": false
   },
   "outputs": [],
   "source": [
    "n_cols_plots=4\n",
    "n_rows_plots=int(N_DER_FEAT/n_cols_plots)+1\n",
    "print ( \"plotting a %d x %d matrix\" % (n_cols_plots, n_rows_plots))\n",
    "#n_rows_plots=1\n",
    "#f, ax_array = plt.subplots(n_rows_plots, n_cols_plots, sharex='col', sharey='row')\n",
    "f, ax_array = plt.subplots(n_rows_plots, n_cols_plots, figsize=(16, 16 ))\n",
    "\n",
    "for row in range(n_rows_plots):\n",
    "    axes = ax_array[row]\n",
    "    for col in range(n_cols_plots):\n",
    "        #ax = ax_array[row*n_cols_plots + col]\n",
    "        if row*n_cols_plots + col < DER_tX.shape[1]:\n",
    "            ax = axes[col]\n",
    "            data_to_plot=DER_tX[:,row*n_cols_plots + col]\n",
    "            ax.scatter(range(N_SAMPLES), data_to_plot, c=y_colors,alpha=0.2)\n",
    "        \n",
    "        \n",
    "#figpath=os.path.join( os.getcwd(), \"..\", \"figures\", \"scatterplots.pdf\")\n",
    "#plt.savefig(figpath)\n",
    "#plt.show()"
   ]
  }
 ],
 "metadata": {
  "anaconda-cloud": {},
  "kernelspec": {
   "display_name": "Python [conda root]",
   "language": "python",
   "name": "conda-root-py"
  },
  "language_info": {
   "codemirror_mode": {
    "name": "ipython",
    "version": 3
   },
   "file_extension": ".py",
   "mimetype": "text/x-python",
   "name": "python",
   "nbconvert_exporter": "python",
   "pygments_lexer": "ipython3",
   "version": "3.5.2"
  }
 },
 "nbformat": 4,
 "nbformat_minor": 1
}
